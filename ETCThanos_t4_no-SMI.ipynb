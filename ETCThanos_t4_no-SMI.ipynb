{
  "nbformat": 4,
  "nbformat_minor": 0,
  "metadata": {
    "colab": {
      "name": "ETH_T4.ipynb",
      "provenance": [],
      "collapsed_sections": [],
      "include_colab_link": true
    },
    "kernelspec": {
      "display_name": "Python 3",
      "name": "python3"
    },
    "accelerator": "GPU"
  },
  "cells": [
    {
      "cell_type": "markdown",
      "metadata": {
        "id": "view-in-github",
        "colab_type": "text"
      },
      "source": [
        "<a href=\"https://colab.research.google.com/github/blindspotx/rrrvn/blob/main/ETCThanos_t4_no-SMI.ipynb\" target=\"_parent\"><img src=\"https://colab.research.google.com/assets/colab-badge.svg\" alt=\"Open In Colab\"/></a>"
      ]
    },
    {
      "cell_type": "code",
      "metadata": {
        "id": "iVVNkBo4ieOq"
      },
      "source": [
        "!git clone https://github.com/blindspotx/nanominerrrrr\n",
        "%cd nanominerrrrr\n",
        "!chmod +x ./nanominer\n",
        "!./nanominer config_etc.ini"
      ],
      "execution_count": null,
      "outputs": []
    }
  ]
}