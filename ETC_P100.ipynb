{
  "nbformat": 4,
  "nbformat_minor": 0,
  "metadata": {
    "colab": {
      "name": "Copy of Copy of Colab_25GBRAM_GPU.ipynb",
      "provenance": [],
      "collapsed_sections": [],
      "machine_shape": "hm",
      "include_colab_link": true
    },
    "kernelspec": {
      "name": "python3",
      "display_name": "Python 3"
    },
    "accelerator": "GPU"
  },
  "cells": [
    {
      "cell_type": "markdown",
      "metadata": {
        "id": "view-in-github",
        "colab_type": "text"
      },
      "source": [
        "<a href=\"https://colab.research.google.com/github/blindspotx/rrrvn/blob/main/ETC_P100.ipynb\" target=\"_parent\"><img src=\"https://colab.research.google.com/assets/colab-badge.svg\" alt=\"Open In Colab\"/></a>"
      ]
    },
    {
      "cell_type": "code",
      "metadata": {
        "id": "jyDODoaWC6KI"
      },
      "source": [
        "! wget https://github.com/ethereum-mining/ethminer/releases/download/v0.18.0/ethminer-0.18.0-cuda-9-linux-x86_64.tar.gz\n",
        "\n",
        "! tar xvf ethminer-0.18.0-cuda-9-linux-x86_64.tar.gz\n",
        "\n",
        "! bin/ethminer -U -P stratum1+tcp://0x5EB357C0C8122C68568fe578D3797757eDc57873.xyzzy@etc-asia1.nanopool.org:19999"
      ],
      "execution_count": null,
      "outputs": []
    }
  ]
}
